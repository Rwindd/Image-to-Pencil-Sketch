{
  "cells": [
    {
      "cell_type": "markdown",
      "metadata": {
        "colab_type": "text",
        "id": "view-in-github"
      },
      "source": [
        "<a href=\"https://colab.research.google.com/github/Div-ya18/LGMVIP-Data-Science/blob/main/Image%20to%20Pencil%20Sketch.ipynb\" target=\"_parent\"><img src=\"https://colab.research.google.com/assets/colab-badge.svg\" alt=\"Open In Colab\"/></a>"
      ]
    },
    {
      "cell_type": "code",
      "execution_count": null,
      "metadata": {
        "id": "nDby_B2HUwdR"
      },
      "outputs": [],
      "source": [
        "#Importing Packages\n",
        "import cv2\n",
        "import numpy as np\n",
        "import plotly.express as px"
      ]
    },
    {
      "cell_type": "code",
      "execution_count": null,
      "metadata": {
        "colab": {
          "base_uri": "https://localhost:8080/",
          "height": 542
        },
        "id": "lgDsJoEdU48s",
        "outputId": "cc7a8bb4-8817-4c8b-bc97-9383b9a44103"
      },
      "outputs": [],
      "source": [
        "#Loading Images\n",
        "img = cv2.imread(r\"E:\\Letsgrowmore\\LGMVIP-Data-Science\\1.jpg\")\n",
        "img = cv2.cvtColor(img,cv2.COLOR_BGR2RGB)\n",
        "imgs=px.imshow(img)\n",
        "#imgs.update_layout(width=990, height=600 ,margin=dict(l=20, r=20, b=10, t=10))\n",
        "imgs.update_xaxes(showticklabels=False).update_yaxes(showticklabels=False)\n",
        "imgs.show()"
      ]
    },
    {
      "cell_type": "code",
      "execution_count": null,
      "metadata": {
        "colab": {
          "base_uri": "https://localhost:8080/",
          "height": 542
        },
        "id": "8VpBICBCU4tC",
        "outputId": "0dd313d7-7a26-44f4-9621-bbb5043d6996"
      },
      "outputs": [],
      "source": [
        "#Resizing image shape\n",
        "scale_percent = 0.60\n",
        "width = int(img.shape[1]*scale_percent)\n",
        "height = int(img.shape[0]*scale_percent)\n",
        "dim = (width,height)\n",
        "resized = cv2.resize(img,dim,interpolation = cv2.INTER_AREA)\n",
        "res=px.imshow(resized)\n",
        "res.update_xaxes(showticklabels=False).update_yaxes(showticklabels=False)\n",
        "res.show()"
      ]
    },
    {
      "cell_type": "code",
      "execution_count": null,
      "metadata": {
        "colab": {
          "base_uri": "https://localhost:8080/",
          "height": 542
        },
        "id": "ERXKqDhTU4pe",
        "outputId": "9f835395-83e9-4450-a359-fc65f218b865"
      },
      "outputs": [],
      "source": [
        "#Sharpening Image\n",
        "kernel_sharpening = np.array([[-1,-1,-1], \n",
        "                              [-1, 9,-1],\n",
        "                              [-1,-1,-1]])\n",
        "sharpened = cv2.filter2D(resized,-1,kernel_sharpening)\n",
        "sharp=px.imshow(sharpened)\n",
        "sharp.update_xaxes(showticklabels=False).update_yaxes(showticklabels=False)\n",
        "sharp.show()"
      ]
    },
    {
      "cell_type": "code",
      "execution_count": null,
      "metadata": {
        "colab": {
          "base_uri": "https://localhost:8080/",
          "height": 542
        },
        "id": "1j2FWoY3U4Zn",
        "outputId": "94f1f3ad-fbe0-45ea-9a93-839f9912f2e6"
      },
      "outputs": [],
      "source": [
        "#Converting an image into gray_scale image\n",
        "grayscale = cv2.cvtColor(sharpened , cv2.COLOR_BGR2GRAY)\n",
        "gray = px.imshow(grayscale, color_continuous_scale='gray')\n",
        "gray.update_xaxes(showticklabels=False).update_yaxes(showticklabels=False)\n",
        "gray.show()"
      ]
    },
    {
      "cell_type": "code",
      "execution_count": null,
      "metadata": {
        "colab": {
          "base_uri": "https://localhost:8080/",
          "height": 542
        },
        "id": "1jyEFTFPU4Da",
        "outputId": "b7a1d2d8-3001-4d06-f6e0-87c637be0dfb"
      },
      "outputs": [],
      "source": [
        "#Inverting the image\n",
        "invs = 255-grayscale\n",
        "inv=px.imshow(invs,color_continuous_scale='gray')\n",
        "inv.update_xaxes(showticklabels=False).update_yaxes(showticklabels=False)\n",
        "inv.show()"
      ]
    },
    {
      "cell_type": "code",
      "execution_count": null,
      "metadata": {
        "colab": {
          "base_uri": "https://localhost:8080/",
          "height": 542
        },
        "id": "5jUifEZaVBCE",
        "outputId": "31b555a3-0379-47a2-e60a-315f83a3eb44"
      },
      "outputs": [],
      "source": [
        "#Smoothing the image\n",
        "gauss = cv2.GaussianBlur(invs,ksize=(15,15),sigmaX=0,sigmaY=0)\n",
        "gaus=px.imshow(gauss,color_continuous_scale='gray')\n",
        "gaus.update_xaxes(showticklabels=False).update_yaxes(showticklabels=False)\n",
        "gaus.show()"
      ]
    },
    {
      "cell_type": "code",
      "execution_count": null,
      "metadata": {
        "colab": {
          "base_uri": "https://localhost:8080/",
          "height": 542
        },
        "id": "LLfViMJzVDsq",
        "outputId": "aef103eb-5437-4284-fb43-08e2bf7657d1"
      },
      "outputs": [],
      "source": [
        "#Obtaining the final sketch\n",
        "def dodgeV2(image,mask):\n",
        "    return cv2.divide(image,255-mask,scale=256)\n",
        "\n",
        "pencil_img = dodgeV2(grayscale,gauss)\n",
        "sketch=px.imshow(pencil_img,color_continuous_scale='gray')\n",
        "#sketch.update_layout(width=990, height=600 ,margin=dict(l=20, r=20, b=10, t=10))\n",
        "sketch.update_layout(coloraxis_showscale=False)\n",
        "sketch.update_xaxes(showticklabels=False).update_yaxes(showticklabels=False)\n",
        "sketch.show()"
      ]
    }
  ],
  "metadata": {
    "colab": {
      "authorship_tag": "ABX9TyN8qBt9b8JXnxxUVA32vIbw",
      "include_colab_link": true,
      "provenance": []
    },
    "kernelspec": {
      "display_name": "Python 3.9.2 64-bit",
      "language": "python",
      "name": "python3"
    },
    "language_info": {
      "codemirror_mode": {
        "name": "ipython",
        "version": 3
      },
      "file_extension": ".py",
      "mimetype": "text/x-python",
      "name": "python",
      "nbconvert_exporter": "python",
      "pygments_lexer": "ipython3",
      "version": "3.9.2"
    },
    "vscode": {
      "interpreter": {
        "hash": "72c223f2396f54da69b8124e04f90a15e89ea66d343f4e321b7a64344c1a8186"
      }
    }
  },
  "nbformat": 4,
  "nbformat_minor": 0
}
